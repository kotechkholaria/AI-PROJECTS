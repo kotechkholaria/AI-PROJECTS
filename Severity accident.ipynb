{
 "metadata": {
  "language_info": {
   "codemirror_mode": {
    "name": "ipython",
    "version": 3
   },
   "file_extension": ".py",
   "mimetype": "text/x-python",
   "name": "python",
   "nbconvert_exporter": "python",
   "pygments_lexer": "ipython3",
   "version": "3.8.3-final"
  },
  "orig_nbformat": 2,
  "kernelspec": {
   "name": "python38364bit92618093cfab4818bf64aa8b16d42637",
   "display_name": "Python 3.8.3 64-bit"
  }
 },
 "nbformat": 4,
 "nbformat_minor": 2,
 "cells": [
  {
   "source": [
    "\n",
    "Key facts\n",
    "\n",
    "    Approximately 1.35 million people die each year as a result of road traffic crashes.\n",
    "\n",
    "    The2030 Agenda for Sustainable Development has set an ambitious target of halving the global number of deaths and injuries from road traffic crashes by 2020.\n",
    "\n",
    "    Road traffic crashes cost most countries 3% of their gross domestic product.\n",
    "\n",
    "    More than half of all road traffic deaths are among vulnerable road users: pedestrians, cyclists, and motorcyclists.\n",
    "\n",
    "    93% of the world's fatalities on the roads occur in low- and middle-income countries, even though these countries have approximately 60% of the world's vehicles.\n",
    "\n",
    "    Road traffic injuries are the leading cause of death for children and young adults aged 5-29 years.\n",
    "\n",
    "source:https://www.who.int/news-room/fact-sheets/detail/road-traffic-injuries\n"
   ],
   "cell_type": "markdown",
   "metadata": {}
  },
  {
   "source": [
    "Introduction\n",
    "\n",
    "\n",
    "Every year the lives of approximately 1.35 million people are cut short as a result of a road traffic crash. Between 20 and 50 million more people suffer non-fatal injuries, with many incurring a disability as a result of their injury.\n",
    "\n",
    "Road traffic injuries cause considerable economic losses to individuals, their families, and to nations as a whole. These losses arise from the cost of treatment as well as lost productivity for those killed or disabled by their injuries, and for family members who need to take time off work or school to care for the injured. Road traffic crashes cost most countries 3% of their gross domestic product."
   ],
   "cell_type": "markdown",
   "metadata": {}
  },
  {
   "cell_type": "code",
   "execution_count": null,
   "metadata": {},
   "outputs": [],
   "source": [
    "Introduction/Business Problem:\n",
    "\n",
    "to minimize the chance for ca collisions we should develop an algorithm wich will predict the severity of an accident in a current weather and visibility conditions. when conditions are bad it should give us a notification to be more careful\n",
    "\n",
    "\n",
    "\n"
   ]
  },
  {
   "cell_type": "code",
   "execution_count": null,
   "metadata": {},
   "outputs": [],
   "source": [
    "Data Understanding:\n",
    "\n",
    "\n",
    "Target variable must be 'SEVERITYCODE' it measures severity of an accident (0-5) , and attributes 'WEATHER' 'ROADCOND' 'LIGHTCOND'"
   ]
  }
 ]
}